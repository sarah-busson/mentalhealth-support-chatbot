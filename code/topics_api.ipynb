{
 "cells": [
  {
   "cell_type": "code",
   "execution_count": 21,
   "metadata": {},
   "outputs": [],
   "source": [
    "import requests\n",
    "import pandas as pd \n",
    "import numpy as np \n",
    "import json\n",
    "from pandas import json_normalize"
   ]
  },
  {
   "cell_type": "code",
   "execution_count": 42,
   "metadata": {},
   "outputs": [
    {
     "ename": "SyntaxError",
     "evalue": "invalid syntax (<ipython-input-42-d17a89016112>, line 12)",
     "output_type": "error",
     "traceback": [
      "\u001b[1;36m  File \u001b[1;32m\"<ipython-input-42-d17a89016112>\"\u001b[1;36m, line \u001b[1;32m12\u001b[0m\n\u001b[1;33m    'STRESS':'c_117', 'c_225', 'c_183', 'c_308',\u001b[0m\n\u001b[1;37m                             ^\u001b[0m\n\u001b[1;31mSyntaxError\u001b[0m\u001b[1;31m:\u001b[0m invalid syntax\n"
     ]
    }
   ],
   "source": [
    "topics_solution = {'SPIRITUALITY':0,\n",
    "                   'COUNSELING':1,\n",
    "                   'WORKPLACE':2,\n",
    "                   'FAMILY':3,\n",
    "                   'RELATIONSHIPS':4,\n",
    "                   'SLEEP': 'c_721',\n",
    "                   'BEHAVIOR':6,\n",
    "                   'SEXUALITY':7,\n",
    "                   'SELF_ESTEEM':8,\n",
    "                   'GRIEF':9,\n",
    "                   'TRAUMA':'c_299',\n",
    "                   'STRESS':'c_117', 'c_225', 'c_183', 'c_308',\n",
    "                   'EATING_DISORDERS':12,\n",
    "                   'ADDICTION':13,\n",
    "                   'DEPRESSION':'c_26',\n",
    "                   'LGBTQ':15,\n",
    "                   'DOMESTIC_VIOLENCE':16,\n",
    "                   'SELF_HARM':17}"
   ]
  },
  {
   "cell_type": "code",
   "execution_count": 4,
   "metadata": {},
   "outputs": [
    {
     "data": {
      "text/plain": [
       "str"
      ]
     },
     "execution_count": 4,
     "metadata": {},
     "output_type": "execute_result"
    }
   ],
   "source": [
    "#exemple of query\n",
    "\n",
    "#if topic returned is:\n",
    "result = [('LGBTQ', 95)]\n",
    "type(result[0][0])"
   ]
  },
  {
   "cell_type": "code",
   "execution_count": 5,
   "metadata": {},
   "outputs": [
    {
     "name": "stdout",
     "output_type": "stream",
     "text": [
      "['LGBTQ', ['LGBT', 'LGBT in Islam', 'LGBT symbols', 'LGBT stereotypes', 'LGBT community', 'LGBT history', 'LGBT culture in New York City', 'LGBT social movements', 'LGBT themes in mythology', 'LGBT culture'], ['', '', '', '', '', '', '', '', '', ''], ['https://en.wikipedia.org/wiki/LGBT', 'https://en.wikipedia.org/wiki/LGBT_in_Islam', 'https://en.wikipedia.org/wiki/LGBT_symbols', 'https://en.wikipedia.org/wiki/LGBT_stereotypes', 'https://en.wikipedia.org/wiki/LGBT_community', 'https://en.wikipedia.org/wiki/LGBT_history', 'https://en.wikipedia.org/wiki/LGBT_culture_in_New_York_City', 'https://en.wikipedia.org/wiki/LGBT_social_movements', 'https://en.wikipedia.org/wiki/LGBT_themes_in_mythology', 'https://en.wikipedia.org/wiki/LGBT_culture']]\n"
     ]
    }
   ],
   "source": [
    "#test on wikipedia\n",
    "S = requests.Session()\n",
    "\n",
    "URL = \"https://en.wikipedia.org/w/api.php\"\n",
    "\n",
    "PARAMS = {\n",
    "    \"action\": \"opensearch\",\n",
    "#    \"namespace\": \"0\",\n",
    "    \"search\": result[0][0],\n",
    "#    \"limit\": \"5\",\n",
    "    \"format\": \"json\"\n",
    "}\n",
    "\n",
    "R = S.get(url=URL, params=PARAMS)\n",
    "DATA = R.json()\n",
    "\n",
    "print(DATA)"
   ]
  },
  {
   "cell_type": "code",
   "execution_count": 14,
   "metadata": {},
   "outputs": [
    {
     "name": "stdout",
     "output_type": "stream",
     "text": [
      "{\"message\":\"No authorization token was found\",\"status_code\":401}\n"
     ]
    }
   ],
   "source": [
    "#test with lexigram\n",
    "url = \"https://api.lexigram.io/v1/lexigraph/search/\"\n",
    "\n",
    "auth = \"\"\n",
    "query = '?q='\n",
    "search_string = 'aspirin'\n",
    "\n",
    "response = requests.get(url+query+search_string, auth = auth)\n",
    "\n",
    "print(response.text)\n",
    "#https://api.lexigram.io/v1/lexigraph/search/?q=aspirin&limit=20\n",
    "#response = requests.get(url_base + owner + repo + pagenr + str(i), auth=(username,token))"
   ]
  },
  {
   "cell_type": "code",
   "execution_count": 3,
   "metadata": {},
   "outputs": [
    {
     "data": {
      "text/plain": [
       "<infermedica_api.webservice.API at 0x2b4d859f288>"
      ]
     },
     "execution_count": 3,
     "metadata": {},
     "output_type": "execute_result"
    }
   ],
   "source": [
    "#Infermedica API\n",
    "import infermedica_api\n",
    "#infermedica_api.configure(app_id='XXX', app_key='XXX')"
   ]
  },
  {
   "cell_type": "code",
   "execution_count": 4,
   "metadata": {},
   "outputs": [],
   "source": [
    "api = infermedica_api.get_api()"
   ]
  },
  {
   "cell_type": "code",
   "execution_count": 41,
   "metadata": {},
   "outputs": [
    {
     "name": "stdout",
     "output_type": "stream",
     "text": [
      "{\n",
      "    \"acuteness\": \"chronic_with_exacerbations\",\n",
      "    \"categories\": [\n",
      "        \"Psychiatry\"\n",
      "    ],\n",
      "    \"common_name\": \"Social anxiety disorder\",\n",
      "    \"extras\": {\n",
      "        \"hint\": \"Please consult a psychiatrist or a psychologist.\",\n",
      "        \"icd10_code\": \"F40.1\"\n",
      "    },\n",
      "    \"id\": \"c_308\",\n",
      "    \"name\": \"Social anxiety disorder\",\n",
      "    \"prevalence\": \"rare\",\n",
      "    \"severity\": \"mild\",\n",
      "    \"sex_filter\": \"both\",\n",
      "    \"triage_level\": \"consultation\"\n",
      "}\n",
      "\n",
      "Please consult a psychiatrist or a psychologist.\n"
     ]
    }
   ],
   "source": [
    "#request = infermedica_api.condition_list(id='c_26')\n",
    "response = api.condition_details('c_308')\n",
    "print(response, end='\\n\\n')\n",
    "print(response.extras['hint'])"
   ]
  },
  {
   "cell_type": "code",
   "execution_count": 27,
   "metadata": {},
   "outputs": [
    {
     "name": "stdout",
     "output_type": "stream",
     "text": [
      "{\n",
      "    \"acuteness\": \"chronic_with_exacerbations\",\n",
      "    \"categories\": [\n",
      "        \"Psychiatry\"\n",
      "    ],\n",
      "    \"common_name\": \"Depression\",\n",
      "    \"extras\": {\n",
      "        \"hint\": \"Please consult a psychologist or psychiatrist.\",\n",
      "        \"icd10_code\": \"F32.1, F32.2, F32.8, F32.9, F33.0, F33.1, F33.2, F33.8, F33.9\"\n",
      "    },\n",
      "    \"id\": \"c_26\",\n",
      "    \"name\": \"Major depressive disorder\",\n",
      "    \"prevalence\": \"moderate\",\n",
      "    \"severity\": \"severe\",\n",
      "    \"sex_filter\": \"both\",\n",
      "    \"triage_level\": \"consultation\"\n",
      "}\n"
     ]
    }
   ],
   "source": [
    "print(response)"
   ]
  },
  {
   "cell_type": "code",
   "execution_count": 43,
   "metadata": {},
   "outputs": [
    {
     "name": "stdout",
     "output_type": "stream",
     "text": [
      "Social anxiety disorder\n"
     ]
    }
   ],
   "source": [
    "#df = pd.DataFrame.from_dict(response)\n",
    "print(response.common_name)"
   ]
  },
  {
   "cell_type": "code",
   "execution_count": 34,
   "metadata": {},
   "outputs": [
    {
     "data": {
      "text/plain": [
       "str"
      ]
     },
     "execution_count": 34,
     "metadata": {},
     "output_type": "execute_result"
    }
   ],
   "source": [
    "type(response.extras['hint'])"
   ]
  },
  {
   "cell_type": "code",
   "execution_count": null,
   "metadata": {},
   "outputs": [],
   "source": []
  }
 ],
 "metadata": {
  "kernelspec": {
   "display_name": "Python 3",
   "language": "python",
   "name": "python3"
  },
  "language_info": {
   "codemirror_mode": {
    "name": "ipython",
    "version": 3
   },
   "file_extension": ".py",
   "mimetype": "text/x-python",
   "name": "python",
   "nbconvert_exporter": "python",
   "pygments_lexer": "ipython3",
   "version": "3.7.6"
  }
 },
 "nbformat": 4,
 "nbformat_minor": 4
}
