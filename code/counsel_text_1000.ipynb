{
 "cells": [
  {
   "cell_type": "code",
   "execution_count": 1,
   "metadata": {},
   "outputs": [
    {
     "name": "stdout",
     "output_type": "stream",
     "text": [
      "showing info https://raw.githubusercontent.com/nltk/nltk_data/gh-pages/index.xml\n"
     ]
    },
    {
     "data": {
      "text/plain": [
       "True"
      ]
     },
     "execution_count": 1,
     "metadata": {},
     "output_type": "execute_result"
    }
   ],
   "source": [
    "import pandas as pd\n",
    "import re\n",
    "import numpy as np\n",
    "from nltk.corpus import stopwords\n",
    "import nltk\n",
    "nltk.download()"
   ]
  },
  {
   "cell_type": "code",
   "execution_count": 6,
   "metadata": {},
   "outputs": [],
   "source": [
    "#Clean the text:\n",
    "def clean_chat(s):\n",
    "    s = str(s)\n",
    "    s = s.lower()                   #remove caps to avoid double words\n",
    "    s = re.sub('<.+>', ' ', s)      #remove html format text\n",
    "    s = re.sub('[\\W\\d]', ' ', s)    #remove special signs, punctuation, numbers\n",
    "    s = re.sub(' +', ' ', s)        #remove excessive spaces\n",
    "    s = s.strip()                   #remove first and last spaces\n",
    "    return s\n",
    "\n",
    "def spacy_lem(l):\n",
    "    doc = nlp(l)\n",
    "    return [token.lemma_ for token in doc]\n",
    "\n",
    "import spacy\n",
    "#I'll use spacy as it seemed like a good option to lemmatize with the appropriate pos tag, detects pronouns and superlative \n",
    "#forms of words.\n",
    "nlp = spacy.load('en_core_web_sm', disable=['parser', 'ner'])\n",
    "\n",
    "stop_words = list(stopwords.words('english'))\n",
    "stop_words.append('-PRON-') #remove it as it won't be necessary in our model\n",
    "stop_words.append('p')\n",
    "stop_words.append('nbsp') #this is the '<p>' and &nbsp from the html conversion"
   ]
  },
  {
   "cell_type": "code",
   "execution_count": 7,
   "metadata": {},
   "outputs": [
    {
     "data": {
      "text/html": [
       "<div>\n",
       "<style scoped>\n",
       "    .dataframe tbody tr th:only-of-type {\n",
       "        vertical-align: middle;\n",
       "    }\n",
       "\n",
       "    .dataframe tbody tr th {\n",
       "        vertical-align: top;\n",
       "    }\n",
       "\n",
       "    .dataframe thead th {\n",
       "        text-align: right;\n",
       "    }\n",
       "</style>\n",
       "<table border=\"1\" class=\"dataframe\">\n",
       "  <thead>\n",
       "    <tr style=\"text-align: right;\">\n",
       "      <th></th>\n",
       "      <th>topic</th>\n",
       "      <th>sentence</th>\n",
       "    </tr>\n",
       "  </thead>\n",
       "  <tbody>\n",
       "    <tr>\n",
       "      <th>0</th>\n",
       "      <td>3</td>\n",
       "      <td>Escalating disagreements between mother and wi...</td>\n",
       "    </tr>\n",
       "    <tr>\n",
       "      <th>1</th>\n",
       "      <td>13</td>\n",
       "      <td>I'm addicted to smoking. How can I stop? I'm p...</td>\n",
       "    </tr>\n",
       "    <tr>\n",
       "      <th>2</th>\n",
       "      <td>3</td>\n",
       "      <td>Keeping secrets from my family I have secrets ...</td>\n",
       "    </tr>\n",
       "    <tr>\n",
       "      <th>3</th>\n",
       "      <td>6</td>\n",
       "      <td>The Underlying Causes of Being Possessive I am...</td>\n",
       "    </tr>\n",
       "    <tr>\n",
       "      <th>4</th>\n",
       "      <td>11</td>\n",
       "      <td>Can I control anxiety without medication? I ha...</td>\n",
       "    </tr>\n",
       "    <tr>\n",
       "      <th>...</th>\n",
       "      <td>...</td>\n",
       "      <td>...</td>\n",
       "    </tr>\n",
       "    <tr>\n",
       "      <th>2124</th>\n",
       "      <td>1</td>\n",
       "      <td>What happens in a counseling session? After fi...</td>\n",
       "    </tr>\n",
       "    <tr>\n",
       "      <th>2125</th>\n",
       "      <td>1</td>\n",
       "      <td>What happens in a counseling session? After fi...</td>\n",
       "    </tr>\n",
       "    <tr>\n",
       "      <th>2126</th>\n",
       "      <td>1</td>\n",
       "      <td>What happens in a counseling session? After fi...</td>\n",
       "    </tr>\n",
       "    <tr>\n",
       "      <th>2127</th>\n",
       "      <td>1</td>\n",
       "      <td>What happens in a counseling session? After fi...</td>\n",
       "    </tr>\n",
       "    <tr>\n",
       "      <th>2128</th>\n",
       "      <td>1</td>\n",
       "      <td>What happens in a counseling session? After fi...</td>\n",
       "    </tr>\n",
       "  </tbody>\n",
       "</table>\n",
       "<p>3601 rows × 2 columns</p>\n",
       "</div>"
      ],
      "text/plain": [
       "      topic                                           sentence\n",
       "0         3  Escalating disagreements between mother and wi...\n",
       "1        13  I'm addicted to smoking. How can I stop? I'm p...\n",
       "2         3  Keeping secrets from my family I have secrets ...\n",
       "3         6  The Underlying Causes of Being Possessive I am...\n",
       "4        11  Can I control anxiety without medication? I ha...\n",
       "...     ...                                                ...\n",
       "2124      1  What happens in a counseling session? After fi...\n",
       "2125      1  What happens in a counseling session? After fi...\n",
       "2126      1  What happens in a counseling session? After fi...\n",
       "2127      1  What happens in a counseling session? After fi...\n",
       "2128      1  What happens in a counseling session? After fi...\n",
       "\n",
       "[3601 rows x 2 columns]"
      ]
     },
     "execution_count": 7,
     "metadata": {},
     "output_type": "execute_result"
    }
   ],
   "source": [
    "chatc1 = pd.read_csv('../data/counsel-chat.txt')\n",
    "chatc2 = pd.read_csv('../data/scrap-counsel-chat.txt') \n",
    "\n",
    "chatc1.drop(['questionID','questionUrl','therapistName','therapistUrl','upvotes'], axis=1, inplace=True)\n",
    "chatc2.drop(['Unnamed: 0','questionID','questionLink','therapistInfo','therapistURL','upvotes','views','split'], axis=1, inplace=True)\n",
    "\n",
    "chatc1.rename(columns={'topics':'topic'}, inplace=True)\n",
    "\n",
    "counsel_cat = pd.concat([chatc1, chatc2])\n",
    "\n",
    "counsel_cat['sentence'] = counsel_cat.questionTitle.fillna('') +' '+ counsel_cat.questionText.fillna('') +' '+ counsel_cat.answerText.fillna('')\n",
    "counsel_cat.drop(['questionTitle', 'questionText', 'answerText'], axis=1, inplace=True)\n",
    "\n",
    "counsel_cat.topic = counsel_cat.topic.apply(lambda x: str(x).lower())\n",
    "counsel_cat.topic = counsel_cat.topic.apply(lambda x: str(x).strip())\n",
    "\n",
    "counsel_cat.replace('nan', np.nan, inplace=True)\n",
    "counsel_cat.dropna(inplace=True)\n",
    "\n",
    "counsel_cat.replace('-', ' ', regex=True, inplace=True)\n",
    "\n",
    "topic = counsel_cat.topic.unique()\n",
    "topic = [str(word).split(',') for word in topic]\n",
    "topic = [word for lst in topic for word in lst]\n",
    "#Ok that's a lot of topics, let's try to reduce them not by deleting but make some topics more general\n",
    "topic = np.unique(topic)\n",
    "\n",
    "\"\"\"\n",
    "- Substance abuse and Addiction are related topics -> ADDICTION,\n",
    "- Anxiety and stress are realted topics -> STRESS,\n",
    "- Relationships, social relationships, relationship dissolution, Marriage are related topics -> RELATIONSHIPS,\n",
    "- Children and Adolescents, Family Conflict, Parenting, Alzheimer's are related topics -> FAMILY,\n",
    "- Career Counseling, Professional Ethics, Workplace Relationship are related topics -> WORKPLACE,\n",
    "- Human Sexuality and Intimacy -> SEXUALITY\n",
    "- Counseling fundamentals, Legal & Regulatory, Military Issues and Diagnosis -> COUNSELING\n",
    "- Behaviorall change, anger management -> BEHAVIOR\n",
    "\n",
    "'SPIRITUALITY' = 0\n",
    "'COUNSELING' = 1\n",
    "\n",
    "'WORKPLACE' = 2\n",
    "'FAMILY' = 3\n",
    "'RELATIONSHIPS' = 4\n",
    "'SLEEP' = 5\n",
    "'BEHAVIOR' = 6\n",
    "'SEXUALITY' = 7\n",
    "'SELF_ESTEEM' = 8\n",
    "'GRIEF' = 9\n",
    "'TRAUMA' = 10\n",
    "\n",
    "'STRESS' = 11\n",
    "'EATING_DISORDERS' = 12\n",
    "'ADDICTION' = 13\n",
    "'DEPRESSION' = 14\n",
    "'LGBTQ' = 15\n",
    "\n",
    "'DOMESTIC_VIOLENCE' = 16\n",
    "'SELF_HARM' = 17\n",
    "\"\"\"\n",
    "\n",
    "topic_dict = {'addiction':'13',\n",
    "              \"alzheimer's\":'3',\n",
    "              'anger management':'6',\n",
    "              'anxiety':'11',\n",
    "              'behavioral change':'6',\n",
    "              'career counseling':'2',\n",
    "              'children & adolescents':'3',\n",
    "              'children adolescents':'4',\n",
    "              'counseling fundamentals':'1',\n",
    "              'depression':'14',\n",
    "              'diagnosis':'1',\n",
    "              'domestic violence':'16',\n",
    "              'eating disorders':'12',\n",
    "              'family conflict':'3',\n",
    "              'grief and loss':'9',\n",
    "              'human sexuality':'7',\n",
    "              'intimacy':'7',\n",
    "              'lgbtq':'15',\n",
    "              'legal & regulatory':'1',\n",
    "              'legal regulatory':'1',\n",
    "              'marriage':'4',\n",
    "              'military issues':'1',\n",
    "              'parenting':'3',\n",
    "              'professional ethics':'2',\n",
    "              'dissolution':'4',\n",
    "              'relationships':'4',\n",
    "              'relationship':'4',\n",
    "              'self esteem':'8',\n",
    "              'self harm':'17',\n",
    "              'sleep improvement':'5',\n",
    "              'social':'4',\n",
    "              'spirituality':'0',\n",
    "              'stress':'11',\n",
    "              'substance abuse':'13',\n",
    "              'trauma':'10',\n",
    "              'workplace':'2'}\n",
    "\n",
    "for key in topic_dict:\n",
    "    counsel_cat.topic = counsel_cat.topic.str.replace(key, topic_dict[key], regex=False)\n",
    "\n",
    "#topic_red = counsel_cat.topic.unique()\n",
    "\n",
    "def sort_topics(s):\n",
    "    s = str(s)\n",
    "    s = re.findall('\\d+', s)\n",
    "    s = [int(number) for number in s]\n",
    "    return max(s)  \n",
    "\n",
    "#sort_topics(counsel_cat.topic[1])\n",
    "\n",
    "counsel_cat.topic = counsel_cat.topic.apply(sort_topics)\n",
    "\n",
    "counsel_cat"
   ]
  },
  {
   "cell_type": "code",
   "execution_count": 8,
   "metadata": {},
   "outputs": [],
   "source": [
    "counsel_cat.sentence = counsel_cat.sentence.apply(clean_chat)\n",
    "counsel_cat.sentence = counsel_cat.sentence.apply(spacy_lem)\n",
    "\n",
    "counsel_cat.sentence = counsel_cat.sentence.apply(lambda x: np.unique([word for word in x if word not in stop_words]))\n",
    "\n",
    "all_sentence = list(counsel_cat.sentence)\n",
    "bow_sentence = [word for lst in all_sentence for word in lst]\n",
    "all_words = nltk.FreqDist(bow_sentence)\n",
    "\n",
    "#Get 3000 most common words\n",
    "word_tuples = all_words.most_common(1000)\n",
    "word_features = [x[0] for x in word_tuples]\n",
    "\n",
    "#word_tuples\n",
    "word_features\n",
    "\n",
    "def vectorize_topic(l):\n",
    "    new_list = []\n",
    "    for word in word_features:\n",
    "        if word in l:\n",
    "            new_list.append(1)\n",
    "        else:\n",
    "            new_list.append(0)\n",
    "    return new_list\n",
    "\n",
    "counsel_cat.sentence = counsel_cat.sentence.apply(vectorize_topic)"
   ]
  },
  {
   "cell_type": "code",
   "execution_count": 9,
   "metadata": {},
   "outputs": [],
   "source": [
    "word_features_df = pd.DataFrame(word_features)\n",
    "word_features_df.to_csv('../data/word_features_topic.csv', index=False)"
   ]
  },
  {
   "cell_type": "code",
   "execution_count": 10,
   "metadata": {},
   "outputs": [
    {
     "data": {
      "text/html": [
       "<div>\n",
       "<style scoped>\n",
       "    .dataframe tbody tr th:only-of-type {\n",
       "        vertical-align: middle;\n",
       "    }\n",
       "\n",
       "    .dataframe tbody tr th {\n",
       "        vertical-align: top;\n",
       "    }\n",
       "\n",
       "    .dataframe thead th {\n",
       "        text-align: right;\n",
       "    }\n",
       "</style>\n",
       "<table border=\"1\" class=\"dataframe\">\n",
       "  <thead>\n",
       "    <tr style=\"text-align: right;\">\n",
       "      <th></th>\n",
       "      <th>0</th>\n",
       "    </tr>\n",
       "  </thead>\n",
       "  <tbody>\n",
       "    <tr>\n",
       "      <th>back</th>\n",
       "      <td>430</td>\n",
       "    </tr>\n",
       "    <tr>\n",
       "      <th>cause</th>\n",
       "      <td>234</td>\n",
       "    </tr>\n",
       "    <tr>\n",
       "      <th>complain</th>\n",
       "      <td>35</td>\n",
       "    </tr>\n",
       "    <tr>\n",
       "      <th>difference</th>\n",
       "      <td>83</td>\n",
       "    </tr>\n",
       "    <tr>\n",
       "      <th>disagreement</th>\n",
       "      <td>10</td>\n",
       "    </tr>\n",
       "    <tr>\n",
       "      <th>...</th>\n",
       "      <td>...</td>\n",
       "    </tr>\n",
       "    <tr>\n",
       "      <th>liking</th>\n",
       "      <td>1</td>\n",
       "    </tr>\n",
       "    <tr>\n",
       "      <th>collect</th>\n",
       "      <td>1</td>\n",
       "    </tr>\n",
       "    <tr>\n",
       "      <th>reserved</th>\n",
       "      <td>1</td>\n",
       "    </tr>\n",
       "    <tr>\n",
       "      <th>targette</th>\n",
       "      <td>1</td>\n",
       "    </tr>\n",
       "    <tr>\n",
       "      <th>theorie</th>\n",
       "      <td>1</td>\n",
       "    </tr>\n",
       "  </tbody>\n",
       "</table>\n",
       "<p>9610 rows × 1 columns</p>\n",
       "</div>"
      ],
      "text/plain": [
       "                0\n",
       "back          430\n",
       "cause         234\n",
       "complain       35\n",
       "difference     83\n",
       "disagreement   10\n",
       "...           ...\n",
       "liking          1\n",
       "collect         1\n",
       "reserved        1\n",
       "targette        1\n",
       "theorie         1\n",
       "\n",
       "[9610 rows x 1 columns]"
      ]
     },
     "execution_count": 10,
     "metadata": {},
     "output_type": "execute_result"
    }
   ],
   "source": [
    "all_words\n",
    "wordcloud_df = pd.DataFrame.from_dict(all_words, orient='index')\n",
    "wordcloud_df"
   ]
  },
  {
   "cell_type": "code",
   "execution_count": 11,
   "metadata": {},
   "outputs": [],
   "source": [
    "counsel_cat.reset_index(inplace=True)\n",
    "counsel_cat.to_json('../data/counsel_text_1000.json')"
   ]
  },
  {
   "cell_type": "code",
   "execution_count": 12,
   "metadata": {},
   "outputs": [],
   "source": [
    "import tensorflow as tf\n",
    "from sklearn.model_selection import train_test_split\n",
    "import json"
   ]
  },
  {
   "cell_type": "code",
   "execution_count": 13,
   "metadata": {},
   "outputs": [],
   "source": [
    "counsel = counsel_cat.sample(frac=1)\n",
    "\n",
    "X = counsel.sentence\n",
    "y = counsel.topic\n",
    "\n",
    "X_train = np.vstack(X[:3000])\n",
    "X_test = np.vstack(X[3000:])\n",
    "\n",
    "y_train = y[:3000]\n",
    "y_test = y[3000:]"
   ]
  },
  {
   "cell_type": "code",
   "execution_count": 47,
   "metadata": {},
   "outputs": [
    {
     "name": "stdout",
     "output_type": "stream",
     "text": [
      "Epoch 1/8\n",
      "94/94 [==============================] - 1s 11ms/step - loss: 1.5607 - accuracy: 0.5360\n",
      "Epoch 2/8\n",
      "94/94 [==============================] - 1s 10ms/step - loss: 0.4414 - accuracy: 0.8707\n",
      "Epoch 3/8\n",
      "94/94 [==============================] - 1s 10ms/step - loss: 0.2010 - accuracy: 0.9350\n",
      "Epoch 4/8\n",
      "94/94 [==============================] - 1s 10ms/step - loss: 0.1210 - accuracy: 0.9517\n",
      "Epoch 5/8\n",
      "94/94 [==============================] - 1s 11ms/step - loss: 0.0987 - accuracy: 0.9543\n",
      "Epoch 6/8\n",
      "94/94 [==============================] - 1s 10ms/step - loss: 0.0761 - accuracy: 0.9613\n",
      "Epoch 7/8\n",
      "94/94 [==============================] - 1s 11ms/step - loss: 0.0788 - accuracy: 0.9590\n",
      "Epoch 8/8\n",
      "94/94 [==============================] - 1s 10ms/step - loss: 0.0671 - accuracy: 0.9577\n"
     ]
    },
    {
     "data": {
      "text/plain": [
       "<tensorflow.python.keras.callbacks.History at 0x2a257ca4ac8>"
      ]
     },
     "execution_count": 47,
     "metadata": {},
     "output_type": "execute_result"
    }
   ],
   "source": [
    "model = tf.keras.models.Sequential()\n",
    "#model.add(tf.keras.layers.Flatten())\n",
    "\n",
    "model.add(tf.keras.layers.Dense(1000, activation = tf.nn.relu))\n",
    "model.add(tf.keras.layers.Dense(800, activation = tf.nn.relu))\n",
    "\n",
    "model.add(tf.keras.layers.Dense(18, activation = tf.nn.softmax))\n",
    "\n",
    "model.compile(optimizer='adam',\n",
    "             loss='sparse_categorical_crossentropy',\n",
    "             metrics=['accuracy'])\n",
    "\n",
    "model.fit(X_train, y_train, epochs=8)"
   ]
  },
  {
   "cell_type": "code",
   "execution_count": 48,
   "metadata": {},
   "outputs": [
    {
     "name": "stdout",
     "output_type": "stream",
     "text": [
      "19/19 [==============================] - 0s 3ms/step - loss: 0.9543 - accuracy: 0.7720\n",
      "0.9542925953865051 0.7720465660095215\n"
     ]
    }
   ],
   "source": [
    "val_loss, val_acc = model.evaluate(X_test, y_test)\n",
    "print(val_loss, val_acc)"
   ]
  },
  {
   "cell_type": "code",
   "execution_count": 49,
   "metadata": {},
   "outputs": [
    {
     "name": "stdout",
     "output_type": "stream",
     "text": [
      "WARNING:tensorflow:Layers in a Sequential model should only have a single input tensor, but we receive a <class 'tuple'> input: (<tf.Tensor 'IteratorGetNext:0' shape=(None, 1000) dtype=int32>,)\n",
      "Consider rewriting this model with the Functional API.\n",
      "[[1.2617837e-05 1.7321778e-04 2.3006087e-06 ... 5.7682400e-06\n",
      "  5.5679384e-06 1.6884040e-06]\n",
      " [4.8557532e-04 4.7459174e-04 1.6048715e-04 ... 1.7082883e-02\n",
      "  4.0053455e-03 1.0492729e-03]\n",
      " [8.3968516e-08 4.0471783e-05 2.9117321e-06 ... 1.7639204e-08\n",
      "  1.3777068e-07 2.5341910e-07]\n",
      " ...\n",
      " [5.5502591e-05 9.6234840e-01 2.1239046e-05 ... 1.4462964e-04\n",
      "  1.7849379e-06 3.0116951e-05]\n",
      " [4.0978323e-09 5.0426803e-07 1.1722451e-09 ... 4.4683102e-08\n",
      "  3.7238386e-09 3.8314219e-08]\n",
      " [3.9790681e-11 3.2948964e-07 2.2735194e-10 ... 2.9297504e-09\n",
      "  3.0261585e-10 1.1331561e-08]]\n",
      "1898    11\n",
      "726      5\n",
      "1900    11\n",
      "1606    14\n",
      "1423     3\n",
      "        ..\n",
      "1745    14\n",
      "1623    14\n",
      "3353     1\n",
      "848     11\n",
      "186     11\n",
      "Name: topic, Length: 601, dtype: int64\n"
     ]
    }
   ],
   "source": [
    "predic = model.predict([X_test])\n",
    "print(predic)\n",
    "print(y_test)"
   ]
  },
  {
   "cell_type": "code",
   "execution_count": 50,
   "metadata": {},
   "outputs": [
    {
     "name": "stdout",
     "output_type": "stream",
     "text": [
      "3\n"
     ]
    }
   ],
   "source": [
    "print(np.argmax(predic[4]))"
   ]
  },
  {
   "cell_type": "code",
   "execution_count": 51,
   "metadata": {},
   "outputs": [
    {
     "name": "stdout",
     "output_type": "stream",
     "text": [
      "Model: \"sequential_16\"\n",
      "_________________________________________________________________\n",
      "Layer (type)                 Output Shape              Param #   \n",
      "=================================================================\n",
      "dense_59 (Dense)             (None, 1000)              1001000   \n",
      "_________________________________________________________________\n",
      "dense_60 (Dense)             (None, 800)               800800    \n",
      "_________________________________________________________________\n",
      "dense_61 (Dense)             (None, 18)                14418     \n",
      "=================================================================\n",
      "Total params: 1,816,218\n",
      "Trainable params: 1,816,218\n",
      "Non-trainable params: 0\n",
      "_________________________________________________________________\n"
     ]
    }
   ],
   "source": [
    "model.summary()"
   ]
  },
  {
   "cell_type": "code",
   "execution_count": 52,
   "metadata": {},
   "outputs": [
    {
     "name": "stdout",
     "output_type": "stream",
     "text": [
      "WARNING:tensorflow:From C:\\Users\\sarah\\anaconda3\\lib\\site-packages\\tensorflow\\python\\training\\tracking\\tracking.py:111: Model.state_updates (from tensorflow.python.keras.engine.training) is deprecated and will be removed in a future version.\n",
      "Instructions for updating:\n",
      "This property should not be used in TensorFlow 2.0, as updates are applied automatically.\n",
      "WARNING:tensorflow:From C:\\Users\\sarah\\anaconda3\\lib\\site-packages\\tensorflow\\python\\training\\tracking\\tracking.py:111: Layer.updates (from tensorflow.python.keras.engine.base_layer) is deprecated and will be removed in a future version.\n",
      "Instructions for updating:\n",
      "This property should not be used in TensorFlow 2.0, as updates are applied automatically.\n",
      "INFO:tensorflow:Assets written to: topic_text_1000.model\\assets\n"
     ]
    }
   ],
   "source": [
    "model.save('topic_text_1000.model')"
   ]
  },
  {
   "cell_type": "code",
   "execution_count": 60,
   "metadata": {},
   "outputs": [
    {
     "data": {
      "image/png": "[encoded data removed]",
      "text/plain": [
       "<Figure size 432x288 with 1 Axes>"
      ]
     },
     "metadata": {
      "needs_background": "light"
     },
     "output_type": "display_data"
    }
   ],
   "source": [
    "from wordcloud import WordCloud\n",
    "import matplotlib.pyplot as plt\n",
    "\n",
    "wordcloud = WordCloud(width=2000, height=2000, background_color = 'white',min_font_size=20)\n",
    "wordcloud.generate_from_frequencies(frequencies=all_words)\n",
    "plt.figure()\n",
    "plt.imshow(wordcloud, interpolation=\"bilinear\")\n",
    "plt.axis(\"off\")\n",
    "plt.show()"
   ]
  },
  {
   "cell_type": "code",
   "execution_count": 61,
   "metadata": {},
   "outputs": [
    {
     "data": {
      "text/plain": [
       "<wordcloud.wordcloud.WordCloud at 0x17931329b88>"
      ]
     },
     "execution_count": 61,
     "metadata": {},
     "output_type": "execute_result"
    }
   ],
   "source": [
    "wordcloud.to_file('../Images/corpus.png')"
   ]
  }
 ],
 "metadata": {
  "kernelspec": {
   "display_name": "Python 3",
   "language": "python",
   "name": "python3"
  },
  "language_info": {
   "codemirror_mode": {
    "name": "ipython",
    "version": 3
   },
   "file_extension": ".py",
   "mimetype": "text/x-python",
   "name": "python",
   "nbconvert_exporter": "python",
   "pygments_lexer": "ipython3",
   "version": "3.7.6"
  }
 },
 "nbformat": 4,
 "nbformat_minor": 4
}
