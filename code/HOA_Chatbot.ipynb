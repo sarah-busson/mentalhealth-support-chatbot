{
 "cells": [
  {
   "cell_type": "markdown",
   "metadata": {},
   "source": [
    "# Create the Chatbot"
   ]
  },
  {
   "cell_type": "code",
   "execution_count": 10,
   "metadata": {},
   "outputs": [],
   "source": [
    "#ChatBot\n",
    "import chatterbot\n",
    "from chatterbot import ChatBot\n",
    "from chatterbot.trainers import ListTrainer\n",
    "import re\n",
    "import pandas as pd\n",
    "\n",
    "#Topic Recognition\n",
    "import tensorflow as tf\n",
    "import numpy as np\n",
    "import spacy\n",
    "\n",
    "#API\n",
    "#import infermedica_api\n",
    "#infermedica_api.configure(app_id='XX', app_key='XXX')\n",
    "#api = infermedica_api.get_api()"
   ]
  },
  {
   "cell_type": "code",
   "execution_count": 2,
   "metadata": {
    "scrolled": true
   },
   "outputs": [],
   "source": [
    "chatc2 = pd.read_csv('../data/scrap-counsel-chat.txt') \n",
    "\n",
    "chatc2.drop(['Unnamed: 0','questionID','questionLink','therapistInfo','therapistURL','upvotes','views','split','topic','questionTitle'], axis=1, inplace=True)\n",
    "\n",
    "corpus = chatc2.answerText\n",
    "answers=[]\n",
    "for sentence in corpus:\n",
    "    answers.append(re.split('\\.!?', sentence))\n",
    "\n",
    "answer_lst = [answer for sublist in answers for answer in sublist]\n",
    "\n",
    "movie = pd.read_csv('../data/movie_lines.txt', sep='|', names=['1', '2', '3', '4', 'MovieLines'])   \n",
    "movie = list(movie.MovieLines.astype('str'))"
   ]
  },
  {
   "cell_type": "code",
   "execution_count": 3,
   "metadata": {
    "scrolled": true
   },
   "outputs": [],
   "source": [
    "bot = ChatBot(name='Hoa',         #let's find him a cute name !\n",
    "              read_only=False,     #so it can learn after training\n",
    "              storage_adapter='chatterbot.storage.SQLStorageAdapter',\n",
    "              logic_adapters=[{'import_path': 'chatterbot.logic.BestMatch',\n",
    "                               'default_response': 'Can you tell me more about how you feel? 💬',\n",
    "                               'maximum_similarity_threshold': 0.9}])\n",
    "                               #'statement_comparison_function': 'chatterbot.comparisons.LevenshteinDistance'\n",
    "                               #'response_selection_method': 'chatterbot.response_selection.get_first_response'"
   ]
  },
  {
   "cell_type": "code",
   "execution_count": 4,
   "metadata": {},
   "outputs": [
    {
     "data": {
      "text/plain": [
       "\"from chatterbot.trainers import ChatterBotCorpusTrainer\\ncorpus_trainer = ChatterBotCorpusTrainer(bot)\\n\\nfiles = ['conversations.yml', 'greetings.yml', 'health.yml']\\nfor file in files:\\n    corpus_trainer.train('C:\\\\Users\\\\sarah\\\\anaconda3\\\\Lib\\\\site-packages\\\\chatterbot_corpus\\\\data\\\\english\\\\'+file)\\nlist_trainer.train(movie)\\n\\nlist_trainer.train(answer_lst)\""
      ]
     },
     "execution_count": 4,
     "metadata": {},
     "output_type": "execute_result"
    }
   ],
   "source": [
    "list_trainer = ListTrainer(bot)\n",
    "\"\"\"from chatterbot.trainers import ChatterBotCorpusTrainer\n",
    "corpus_trainer = ChatterBotCorpusTrainer(bot)\n",
    "\n",
    "files = ['conversations.yml', 'greetings.yml', 'health.yml']\n",
    "for file in files:\n",
    "    corpus_trainer.train('C:\\\\Users\\\\sarah\\\\anaconda3\\\\Lib\\\\site-packages\\\\chatterbot_corpus\\\\data\\\\english\\\\'+file)\n",
    "list_trainer.train(movie)\n",
    "\n",
    "list_trainer.train(answer_lst)\"\"\""
   ]
  },
  {
   "cell_type": "code",
   "execution_count": 5,
   "metadata": {},
   "outputs": [],
   "source": [
    "topic_rec = tf.keras.models.load_model('topic_text_1000.model')"
   ]
  },
  {
   "cell_type": "code",
   "execution_count": 6,
   "metadata": {},
   "outputs": [],
   "source": [
    "#I'll use spacy as it seemed like a good option to lemmatize with the appropriate pos tag, detects pronouns and superlative \n",
    "#forms of words.\n",
    "nlp = spacy.load('en_core_web_sm', disable=['parser', 'ner'])\n",
    "\n",
    "#Clean the text:\n",
    "def clean_input(s):\n",
    "    s = s.lower()                   #remove caps to avoid double words\n",
    "    s = re.sub('[\\W\\d]', ' ', s)    #remove special signs, punctuation, numbers\n",
    "    s = re.sub(' +', ' ', s)        #remove excessive spaces\n",
    "    s = s.strip()                   #remove first and last spaces\n",
    "    return s\n",
    "\n",
    "def spacy_lem(l):\n",
    "    doc = nlp(l)\n",
    "    return [token.lemma_ for token in doc]\n",
    "\n",
    "word_features_topic = pd.read_csv('../data/word_features_topic.csv')\n",
    "word_features = list(word_features_topic['0'])\n",
    "\n",
    "def vectorize_input(l):\n",
    "    new_list = []\n",
    "    for word in word_features:\n",
    "        if word in l:\n",
    "            new_list.append(1)\n",
    "        else:\n",
    "            new_list.append(0)\n",
    "    return new_list\n",
    "\n",
    "topics = {'SPIRITUALITY':0,\n",
    "          'COUNSELING':1,\n",
    "          'WORKPLACE':2,\n",
    "          'FAMILY':3,\n",
    "          'RELATIONSHIPS':4,\n",
    "          'SLEEP':5,\n",
    "          'BEHAVIOR':6,\n",
    "          'SEXUALITY':7,\n",
    "          'SELF_ESTEEM':8,\n",
    "          'GRIEF':9,\n",
    "          'TRAUMA':10,\n",
    "          'STRESS':11,\n",
    "          'EATING_DISORDERS':12,\n",
    "          'ADDICTION':13,\n",
    "          'DEPRESSION':14,\n",
    "          'LGBTQ':15,\n",
    "          'DOMESTIC_VIOLENCE':16,\n",
    "          'SELF_HARM':17}\n",
    "\n",
    "def topic_recognizer(raw_text):\n",
    "\n",
    "    vect_text = vectorize_input(spacy_lem(clean_input(raw_text)))\n",
    "#    vect_text = np.array(vect_text)\n",
    "    pred = topic_rec.predict([vect_text])\n",
    "\n",
    "    recognized_topics = []\n",
    "    \n",
    "    if np.max(pred) > 0.5:\n",
    "        for key in topics: \n",
    "            if np.argmax(pred) == topics[key]:\n",
    "                recognized_topics.append((key, round((pred[0][np.argmax(pred)])*100, 2)))\n",
    "    else:\n",
    "        for p in (-pred).argsort():\n",
    "            for top in p[:3]:\n",
    "                for key in topics:\n",
    "                    if top == topics[key]:\n",
    "                        recognized_topics.append((key, round((pred[0][top])*100, 2)))\n",
    "\n",
    "    return recognized_topics"
   ]
  },
  {
   "cell_type": "code",
   "execution_count": 7,
   "metadata": {},
   "outputs": [],
   "source": [
    "topics_solution = {'SPIRITUALITY':'https://www.mind.org.uk/information-support/your-stories/mind-body-spirit/',\n",
    "                   'COUNSELING':'https://www.mind.org.uk/information-support/guides-to-support-and-services/abuse/considering-counselling/',\n",
    "                   'WORKPLACE':'https://www.mind.org.uk/workplace/',\n",
    "                   'FAMILY':'http://www.mentalhealthcenter.org/how-does-family-life-affect-mental-health/',\n",
    "                   'RELATIONSHIPS':'https://www.mind.org.uk/information-support/your-stories/managing-mental-health-in-a-relationship/',\n",
    "                   'SLEEP': 'c_721',\n",
    "                   'BEHAVIOR':'https://www.mind.org.uk/information-support/types-of-mental-health-problems/mental-health-problems-introduction/difficult-feelings-behaviours/',\n",
    "                   'SEXUALITY':'https://www.healthdirect.gov.au/sexuality-mental-health',\n",
    "                   'SELF_ESTEEM':'https://www.mind.org.uk/information-support/types-of-mental-health-problems/self-esteem/about-self-esteem/',\n",
    "                   'GRIEF':'https://www.mind.org.uk/information-support/guides-to-support-and-services/bereavement/experiences-of-grief/',\n",
    "                   'TRAUMA':'c_299',\n",
    "                   'STRESS':'c_117',\n",
    "                   'EATING_DISORDERS':'https://www.mind.org.uk/information-support/types-of-mental-health-problems/eating-problems/treatment-support/',\n",
    "                   'ADDICTION':'http://www.beatingaddictions.co.uk/',\n",
    "                   'DEPRESSION':'c_26',\n",
    "                   'LGBTQ':'https://www.mind.org.uk/information-support/tips-for-everyday-living/lgbtiqplus-mental-health/about-lgbtiqplus-mental-health/',\n",
    "                   'DOMESTIC_VIOLENCE':'https://www.mind.org.uk/information-support/guides-to-support-and-services/abuse/domestic-violence/, https://www.mind.org.uk/information-support/guides-to-support-and-services/abuse/about-this-resource/',\n",
    "                   'SELF_HARM':'https://www.mind.org.uk/information-support/types-of-mental-health-problems/self-harm/about-self-harm/, https://www.mind.org.uk/information-support/types-of-mental-health-problems/suicidal-feelings/about-suicidal-feelings/'}"
   ]
  },
  {
   "cell_type": "code",
   "execution_count": 8,
   "metadata": {},
   "outputs": [
    {
     "data": {
      "text/plain": [
       "[('SEXUALITY', 99.88)]"
      ]
     },
     "execution_count": 8,
     "metadata": {},
     "output_type": "execute_result"
    }
   ],
   "source": [
    "topic_recognizer('My spouse visited the red light district a couple of years back in Amsterdam. After he got back from the trip he got me tested for stds. In the aftermath he has provided multiple versions of what happened, from having a total blackout to being touched by a prostitute. How do I know if he had sex?')"
   ]
  },
  {
   "cell_type": "code",
   "execution_count": 12,
   "metadata": {
    "scrolled": false
   },
   "outputs": [
    {
     "name": "stdout",
     "output_type": "stream",
     "text": [
      "\u001b[1mDISCLAIMER\u001b[0m: \n",
      "You are about to talk with a generated chatbot, made to provide you with the most appropriate solution. Some answer might not always be the best and it is always good to double check with a specialist. \n",
      "\n",
      "\n",
      "\u001b[1mHoa\u001b[0m: Hi! My name is Hoa, and I'm here to help you find a solution. Please, can you describe your issue ?\n",
      "If you wanna exit this conversation, then type \"exit\".\n",
      "\n",
      "\n",
      "You: hello\n",
      "\n",
      "\u001b[1mHoa\u001b[0m: Hi\n",
      "\n",
      "You: i need advice\n",
      "\n",
      "\u001b[1mHoa\u001b[0m: Okay, come on down.\n",
      "\n",
      "You: can you help me?\n",
      "\n",
      "\u001b[1mHoa\u001b[0m: No.\n",
      "\n",
      "You: why not?\n",
      "\n",
      "\u001b[1mHoa\u001b[0m: Bianca Stratford. Sophomore. Don't even think about it\n",
      "\n",
      "You: ok sorry\n",
      "\n",
      "\u001b[1mHoa\u001b[0m: Get this. We ain't partners. We ain't brothers. We ain't friends. I'm puttin' you down and keepin' you down until Ganz is locked up or dead. And if Ganz gets away, you're gonna be sorry we ever met.\n",
      "\n",
      "You: i have a headache\n",
      "\n",
      "\u001b[1mHoa\u001b[0m: Oh, you got a headache!\n",
      "\n",
      "You: i am stressed about my presentation\n",
      "\n",
      "\u001b[1mHoa\u001b[0m: Good God... they're meat eaters, Roy, just drop the shit in there!\n",
      "\n",
      "You: i have anxiety\n",
      "\n",
      "\u001b[1mHoa\u001b[0m: Did you take medicine?\n",
      "\n",
      "You: no, should I?\n",
      "\n",
      "\u001b[1mHoa\u001b[0m: You don't know him?\n",
      "\n",
      "You: i feel depressed\n",
      "\n",
      "\u001b[1mHoa\u001b[0m: You're depressed that I come along.\n",
      "\n",
      "You: i have a problem with binge eating\n",
      "\n",
      "\u001b[1mHoa\u001b[0m: Because they're bred to. Their mothers liked guys like that, and their grandmothers before them. Their gene pool is rarely diluted.\n",
      "\n",
      "You: how are you ?\n",
      "\n",
      "\u001b[1mHoa\u001b[0m: I am doing well.\n",
      "\n",
      "You: how do you feel ?\n",
      "\n",
      "\u001b[1mHoa\u001b[0m: They're but off! Do something!\n",
      "\n",
      "You: exit\n",
      "\n",
      "\u001b[1mHoa\u001b[0m: Can you tell me more about how you feel? 💬\n",
      "\n",
      "You: How do I get my partner to stop verbally abusing me?\n",
      "\n",
      "\u001b[1mHoa\u001b[0m: Divorced.\n",
      "\n",
      "You: Every time my partner gets angry for anything, she takes it out on me. Nothing I do is right, and once she's mad, she calls me all kinds of names and is verbally abusive. She says it isn’t abuse, it’s just angry verbal bashing, and that it’s different. It gets worse each time. The names are very vulgar now.\n",
      "\n",
      "\u001b[1mHoa\u001b[0m: Sorry to hear that..\n",
      "\n",
      "\u001b[1mHoa\u001b[0m: I understand you have issues with domestic_violence\n",
      "\u001b[1mHoa\u001b[0m: This website has meaningful ressources, try calling their helpline as well : https://www.mind.org.uk/information-support/guides-to-support-and-services/abuse/domestic-violence/, https://www.mind.org.uk/information-support/guides-to-support-and-services/abuse/about-this-resource/\n",
      "\n",
      "You: exit\n",
      "\n",
      "\u001b[1mHoa\u001b[0m: Mental health is serious. You're not wasting anyone's time. Take care my friend ! 🤖\n"
     ]
    }
   ],
   "source": [
    "print('\\033[1mDISCLAIMER\\033[0m: \\nYou are about to talk with a generated chatbot, made to provide you with the most appropriate solution.',\n",
    "      'Some answer might not always be the best and it is always good to double check with a specialist. \\n\\n')\n",
    "print(\"\\033[1mHoa\\033[0m: Hi! My name is Hoa, and I'm here to help you find a solution. Please, can you describe your issue ?\")\n",
    "print('If you wanna exit this conversation, then type \"exit\".\\n')\n",
    "\n",
    "conversation = True            #To keep the conversation running\n",
    "recognized_topics = []\n",
    "user_input = input('\\n\\033[1mYou\\033[0m: ')\n",
    "\n",
    "while conversation == True:\n",
    "    \n",
    "    user_corpus = ''               #Will be used for topic recognition\n",
    "    \n",
    "    if user_input != 'exit':\n",
    "        \n",
    "        user_corpus = user_corpus + ' ' + user_input\n",
    "        \n",
    "        while len(user_corpus) < 300:  #300 characters, to make sure I have enough key words for the topic recognition\n",
    "            print('\\n\\033[1mHoa\\033[0m:', bot.get_response(user_input))\n",
    "            user_input = input('\\n\\033[1mYou\\033[0m: ')\n",
    "            user_corpus = user_corpus + ' ' + user_input\n",
    "        \n",
    "        recognized_topics = topic_recognizer(user_corpus)\n",
    "        print('\\n\\033[1mHoa\\033[0m:', 'Sorry to hear that..')\n",
    "\n",
    "        for tple in recognized_topics: \n",
    "            if topics_solution[tple[0]].startswith('c') == True:\n",
    "                response = api.condition_details(topics_solution[tple[0]])\n",
    "                print('\\n\\033[1mHoa\\033[0m:', 'I understand you suffer from', response.common_name)\n",
    "                print('\\033[1mHoa\\033[0m:', 'Here is my advice :', response.extras['hint'])\n",
    "                \n",
    "            else:\n",
    "                print('\\n\\033[1mHoa\\033[0m:', 'I understand you have issues with', tple[0].lower())\n",
    "                print('\\033[1mHoa\\033[0m:', 'This website has meaningful ressources, try calling their helpline as well :', topics_solution[tple[0]])\n",
    "        \n",
    "        user_input = input('\\n\\033[1mYou\\033[0m: ')\n",
    "        \n",
    "    else:\n",
    "        conversation = False\n",
    "\n",
    "#End of conversation\n",
    "print('\\n\\033[1mHoa\\033[0m:', \"Mental health is serious. You're not wasting anyone's time. Take care my friend ! 🤖\")\n",
    "\n",
    "\n",
    "\n",
    "\n",
    "\n",
    "\n",
    "\n",
    "\n",
    "\n",
    "\n",
    "\n",
    "\n",
    "\n",
    "\n",
    "\n",
    "\n",
    "\n"
   ]
  },
  {
   "cell_type": "code",
   "execution_count": null,
   "metadata": {},
   "outputs": [],
   "source": []
  }
 ],
 "metadata": {
  "kernelspec": {
   "display_name": "Python 3",
   "language": "python",
   "name": "python3"
  },
  "language_info": {
   "codemirror_mode": {
    "name": "ipython",
    "version": 3
   },
   "file_extension": ".py",
   "mimetype": "text/x-python",
   "name": "python",
   "nbconvert_exporter": "python",
   "pygments_lexer": "ipython3",
   "version": "3.7.6"
  }
 },
 "nbformat": 4,
 "nbformat_minor": 4
}
