{
 "cells": [
  {
   "cell_type": "markdown",
   "metadata": {},
   "source": [
    "# Load the data\n",
    "\n",
    "It has been vectorized. There are no null values."
   ]
  },
  {
   "cell_type": "code",
   "execution_count": 29,
   "metadata": {},
   "outputs": [],
   "source": [
    "import pandas as pd\n",
    "import numpy as np\n",
    "import re"
   ]
  },
  {
   "cell_type": "code",
   "execution_count": 114,
   "metadata": {},
   "outputs": [
    {
     "data": {
      "text/html": [
       "<div>\n",
       "<style scoped>\n",
       "    .dataframe tbody tr th:only-of-type {\n",
       "        vertical-align: middle;\n",
       "    }\n",
       "\n",
       "    .dataframe tbody tr th {\n",
       "        vertical-align: top;\n",
       "    }\n",
       "\n",
       "    .dataframe thead th {\n",
       "        text-align: right;\n",
       "    }\n",
       "</style>\n",
       "<table border=\"1\" class=\"dataframe\">\n",
       "  <thead>\n",
       "    <tr style=\"text-align: right;\">\n",
       "      <th></th>\n",
       "      <th>level_0</th>\n",
       "      <th>index</th>\n",
       "      <th>topic</th>\n",
       "      <th>sentence</th>\n",
       "    </tr>\n",
       "  </thead>\n",
       "  <tbody>\n",
       "    <tr>\n",
       "      <th>0</th>\n",
       "      <td>0</td>\n",
       "      <td>0</td>\n",
       "      <td>4</td>\n",
       "      <td>[0, 0, 0, 0, 0, 0, 0, 0, 0, 0, 0, 0, 0, 0, 0, ...</td>\n",
       "    </tr>\n",
       "    <tr>\n",
       "      <th>1</th>\n",
       "      <td>1</td>\n",
       "      <td>0</td>\n",
       "      <td>4</td>\n",
       "      <td>[0, 0, 0, 0, 0, 0, 0, 0, 0, 0, 0, 0, 0, 0, 0, ...</td>\n",
       "    </tr>\n",
       "    <tr>\n",
       "      <th>2</th>\n",
       "      <td>2</td>\n",
       "      <td>0</td>\n",
       "      <td>4</td>\n",
       "      <td>[0, 0, 0, 0, 0, 0, 0, 0, 0, 0, 1, 0, 0, 0, 0, ...</td>\n",
       "    </tr>\n",
       "    <tr>\n",
       "      <th>3</th>\n",
       "      <td>3</td>\n",
       "      <td>0</td>\n",
       "      <td>4</td>\n",
       "      <td>[0, 0, 0, 0, 0, 0, 0, 0, 0, 0, 0, 0, 0, 0, 0, ...</td>\n",
       "    </tr>\n",
       "    <tr>\n",
       "      <th>4</th>\n",
       "      <td>4</td>\n",
       "      <td>0</td>\n",
       "      <td>4</td>\n",
       "      <td>[0, 0, 0, 0, 0, 0, 0, 0, 0, 0, 0, 0, 0, 0, 0, ...</td>\n",
       "    </tr>\n",
       "    <tr>\n",
       "      <th>...</th>\n",
       "      <td>...</td>\n",
       "      <td>...</td>\n",
       "      <td>...</td>\n",
       "      <td>...</td>\n",
       "    </tr>\n",
       "    <tr>\n",
       "      <th>60673</th>\n",
       "      <td>60673</td>\n",
       "      <td>2128</td>\n",
       "      <td>2</td>\n",
       "      <td>[0, 0, 0, 0, 0, 0, 0, 0, 0, 0, 0, 0, 0, 0, 0, ...</td>\n",
       "    </tr>\n",
       "    <tr>\n",
       "      <th>60674</th>\n",
       "      <td>60674</td>\n",
       "      <td>2128</td>\n",
       "      <td>2</td>\n",
       "      <td>[1, 0, 0, 0, 0, 0, 0, 0, 0, 0, 0, 0, 0, 1, 0, ...</td>\n",
       "    </tr>\n",
       "    <tr>\n",
       "      <th>60675</th>\n",
       "      <td>60675</td>\n",
       "      <td>2128</td>\n",
       "      <td>2</td>\n",
       "      <td>[0, 0, 0, 0, 0, 0, 0, 0, 0, 0, 0, 0, 0, 0, 0, ...</td>\n",
       "    </tr>\n",
       "    <tr>\n",
       "      <th>60676</th>\n",
       "      <td>60676</td>\n",
       "      <td>2128</td>\n",
       "      <td>2</td>\n",
       "      <td>[0, 0, 0, 0, 1, 0, 0, 0, 0, 0, 0, 0, 0, 1, 0, ...</td>\n",
       "    </tr>\n",
       "    <tr>\n",
       "      <th>60677</th>\n",
       "      <td>60677</td>\n",
       "      <td>2128</td>\n",
       "      <td>2</td>\n",
       "      <td>[0, 0, 0, 0, 0, 0, 0, 0, 0, 0, 0, 0, 0, 0, 0, ...</td>\n",
       "    </tr>\n",
       "  </tbody>\n",
       "</table>\n",
       "<p>60678 rows × 4 columns</p>\n",
       "</div>"
      ],
      "text/plain": [
       "       level_0  index  topic  \\\n",
       "0            0      0      4   \n",
       "1            1      0      4   \n",
       "2            2      0      4   \n",
       "3            3      0      4   \n",
       "4            4      0      4   \n",
       "...        ...    ...    ...   \n",
       "60673    60673   2128      2   \n",
       "60674    60674   2128      2   \n",
       "60675    60675   2128      2   \n",
       "60676    60676   2128      2   \n",
       "60677    60677   2128      2   \n",
       "\n",
       "                                                sentence  \n",
       "0      [0, 0, 0, 0, 0, 0, 0, 0, 0, 0, 0, 0, 0, 0, 0, ...  \n",
       "1      [0, 0, 0, 0, 0, 0, 0, 0, 0, 0, 0, 0, 0, 0, 0, ...  \n",
       "2      [0, 0, 0, 0, 0, 0, 0, 0, 0, 0, 1, 0, 0, 0, 0, ...  \n",
       "3      [0, 0, 0, 0, 0, 0, 0, 0, 0, 0, 0, 0, 0, 0, 0, ...  \n",
       "4      [0, 0, 0, 0, 0, 0, 0, 0, 0, 0, 0, 0, 0, 0, 0, ...  \n",
       "...                                                  ...  \n",
       "60673  [0, 0, 0, 0, 0, 0, 0, 0, 0, 0, 0, 0, 0, 0, 0, ...  \n",
       "60674  [1, 0, 0, 0, 0, 0, 0, 0, 0, 0, 0, 0, 0, 1, 0, ...  \n",
       "60675  [0, 0, 0, 0, 0, 0, 0, 0, 0, 0, 0, 0, 0, 0, 0, ...  \n",
       "60676  [0, 0, 0, 0, 1, 0, 0, 0, 0, 0, 0, 0, 0, 1, 0, ...  \n",
       "60677  [0, 0, 0, 0, 0, 0, 0, 0, 0, 0, 0, 0, 0, 0, 0, ...  \n",
       "\n",
       "[60678 rows x 4 columns]"
      ]
     },
     "execution_count": 114,
     "metadata": {},
     "output_type": "execute_result"
    }
   ],
   "source": [
    "counsel = pd.read_json('../data/counsel_vect_topic.json')\n",
    "counsel"
   ]
  },
  {
   "cell_type": "markdown",
   "metadata": {},
   "source": [
    "# Create the Model\n",
    "\n",
    "I'll first try a neural network with Tensorflow and Keras."
   ]
  },
  {
   "cell_type": "code",
   "execution_count": 18,
   "metadata": {},
   "outputs": [],
   "source": [
    "import tensorflow as tf\n",
    "from sklearn.model_selection import train_test_split\n",
    "import json"
   ]
  },
  {
   "cell_type": "code",
   "execution_count": 122,
   "metadata": {},
   "outputs": [
    {
     "data": {
      "text/plain": [
       "50986     5\n",
       "24890     5\n",
       "2686      5\n",
       "36186     4\n",
       "16327    15\n",
       "         ..\n",
       "20655     9\n",
       "32769    12\n",
       "39293     9\n",
       "16959    15\n",
       "50131     4\n",
       "Name: topic, Length: 50000, dtype: int64"
      ]
     },
     "execution_count": 122,
     "metadata": {},
     "output_type": "execute_result"
    }
   ],
   "source": [
    "counsel = counsel.sample(frac=1)\n",
    "X = counsel.sentence\n",
    "y = counsel.topic\n",
    "\n",
    "X_train = np.vstack(X[:50000])\n",
    "X_test = np.vstack(X[50000:])\n",
    "\n",
    "y_train = y[:50000]\n",
    "y_test = y[50000:]\n",
    "\n",
    "y_train"
   ]
  },
  {
   "cell_type": "code",
   "execution_count": 123,
   "metadata": {},
   "outputs": [
    {
     "data": {
      "text/plain": [
       "50986    [0, 0, 0, 0, 0, 0, 0, 0, 0, 0, 0, 0, 0, 0, 0, ...\n",
       "24890    [0, 0, 0, 0, 0, 0, 0, 0, 0, 0, 0, 0, 0, 0, 0, ...\n",
       "2686     [0, 0, 0, 0, 0, 0, 0, 1, 0, 0, 0, 0, 0, 0, 0, ...\n",
       "36186    [0, 0, 0, 0, 0, 0, 0, 0, 0, 0, 0, 0, 0, 0, 1, ...\n",
       "16327    [0, 1, 0, 0, 0, 0, 0, 0, 0, 0, 0, 0, 1, 0, 0, ...\n",
       "8503     [0, 0, 0, 1, 0, 0, 0, 0, 0, 0, 0, 0, 0, 1, 0, ...\n",
       "33460    [0, 0, 0, 0, 0, 0, 0, 0, 0, 0, 0, 0, 0, 0, 0, ...\n",
       "29203    [0, 0, 0, 0, 0, 0, 0, 0, 0, 0, 0, 0, 0, 0, 0, ...\n",
       "10539    [0, 0, 1, 0, 0, 0, 1, 1, 0, 0, 0, 0, 0, 0, 1, ...\n",
       "27317    [0, 0, 0, 0, 0, 0, 0, 0, 0, 0, 0, 0, 0, 0, 0, ...\n",
       "Name: sentence, dtype: object"
      ]
     },
     "execution_count": 123,
     "metadata": {},
     "output_type": "execute_result"
    }
   ],
   "source": [
    "X[:10]"
   ]
  },
  {
   "cell_type": "code",
   "execution_count": 124,
   "metadata": {},
   "outputs": [
    {
     "name": "stdout",
     "output_type": "stream",
     "text": [
      "Epoch 1/30\n",
      "1563/1563 [==============================] - 43s 27ms/step - loss: 1.8554 - accuracy: 0.4144\n",
      "Epoch 2/30\n",
      "1563/1563 [==============================] - 44s 28ms/step - loss: 1.1291 - accuracy: 0.6393\n",
      "Epoch 3/30\n",
      "1563/1563 [==============================] - 44s 28ms/step - loss: 0.7334 - accuracy: 0.7513\n",
      "Epoch 4/30\n",
      "1563/1563 [==============================] - 45s 29ms/step - loss: 0.5862 - accuracy: 0.7893\n",
      "Epoch 5/30\n",
      "1563/1563 [==============================] - 42s 27ms/step - loss: 0.5254 - accuracy: 0.8029\n",
      "Epoch 6/30\n",
      "1563/1563 [==============================] - 47s 30ms/step - loss: 0.5022 - accuracy: 0.8072\n",
      "Epoch 7/30\n",
      "1563/1563 [==============================] - 43s 28ms/step - loss: 0.4827 - accuracy: 0.8120\n",
      "Epoch 8/30\n",
      "1563/1563 [==============================] - 44s 28ms/step - loss: 0.4732 - accuracy: 0.8141\n",
      "Epoch 9/30\n",
      "1563/1563 [==============================] - 46s 29ms/step - loss: 0.4562 - accuracy: 0.81690s - loss: 0.4564 - ac\n",
      "Epoch 10/30\n",
      "1563/1563 [==============================] - 43s 28ms/step - loss: 0.4543 - accuracy: 0.8170\n",
      "Epoch 11/30\n",
      "1563/1563 [==============================] - 45s 28ms/step - loss: 0.4444 - accuracy: 0.8187\n",
      "Epoch 12/30\n",
      "1563/1563 [==============================] - 44s 28ms/step - loss: 0.4431 - accuracy: 0.8194\n",
      "Epoch 13/30\n",
      "1563/1563 [==============================] - 42s 27ms/step - loss: 0.4407 - accuracy: 0.8192\n",
      "Epoch 14/30\n",
      "1563/1563 [==============================] - 45s 29ms/step - loss: 0.4381 - accuracy: 0.8225\n",
      "Epoch 15/30\n",
      "1563/1563 [==============================] - 48s 30ms/step - loss: 0.4287 - accuracy: 0.8233\n",
      "Epoch 16/30\n",
      "1563/1563 [==============================] - 44s 28ms/step - loss: 0.4343 - accuracy: 0.8234\n",
      "Epoch 17/30\n",
      "1563/1563 [==============================] - 42s 27ms/step - loss: 0.4279 - accuracy: 0.8239\n",
      "Epoch 18/30\n",
      "1563/1563 [==============================] - 43s 27ms/step - loss: 0.4274 - accuracy: 0.8239\n",
      "Epoch 19/30\n",
      "1563/1563 [==============================] - 46s 29ms/step - loss: 0.4220 - accuracy: 0.8262\n",
      "Epoch 20/30\n",
      "1563/1563 [==============================] - 42s 27ms/step - loss: 0.4211 - accuracy: 0.8250\n",
      "Epoch 21/30\n",
      "1563/1563 [==============================] - 45s 29ms/step - loss: 0.4283 - accuracy: 0.8244\n",
      "Epoch 22/30\n",
      "1563/1563 [==============================] - 44s 28ms/step - loss: 0.4238 - accuracy: 0.8250\n",
      "Epoch 23/30\n",
      "1563/1563 [==============================] - 45s 29ms/step - loss: 0.4268 - accuracy: 0.8255\n",
      "Epoch 24/30\n",
      "1563/1563 [==============================] - 44s 28ms/step - loss: 0.4200 - accuracy: 0.8262\n",
      "Epoch 25/30\n",
      "1563/1563 [==============================] - 46s 29ms/step - loss: 0.4215 - accuracy: 0.82580s -\n",
      "Epoch 26/30\n",
      "1563/1563 [==============================] - 44s 28ms/step - loss: 0.4179 - accuracy: 0.8264\n",
      "Epoch 27/30\n",
      "1563/1563 [==============================] - 44s 28ms/step - loss: 0.4185 - accuracy: 0.8277\n",
      "Epoch 28/30\n",
      "1563/1563 [==============================] - 45s 29ms/step - loss: 0.4267 - accuracy: 0.82530s - loss: 0.4266 - ac - ETA: 0s - loss: 0.4268 - accuracy: \n",
      "Epoch 29/30\n",
      "1563/1563 [==============================] - 45s 29ms/step - loss: 0.4373 - accuracy: 0.8260\n",
      "Epoch 30/30\n",
      "1563/1563 [==============================] - 45s 29ms/step - loss: 0.4116 - accuracy: 0.8277\n"
     ]
    },
    {
     "data": {
      "text/plain": [
       "<tensorflow.python.keras.callbacks.History at 0x2671ae98488>"
      ]
     },
     "execution_count": 124,
     "metadata": {},
     "output_type": "execute_result"
    }
   ],
   "source": [
    "model = tf.keras.models.Sequential()\n",
    "#model.add(tf.keras.layers.Flatten())\n",
    "model.add(tf.keras.layers.Dense(1000, activation = tf.nn.relu))\n",
    "model.add(tf.keras.layers.Dense(1000, activation = tf.nn.relu))\n",
    "model.add(tf.keras.layers.Dense(1000, activation = tf.nn.relu))\n",
    "model.add(tf.keras.layers.Dense(19, activation = tf.nn.softmax))\n",
    "\n",
    "model.compile(optimizer='adam',\n",
    "             loss='sparse_categorical_crossentropy',\n",
    "             metrics=['accuracy'])\n",
    "\n",
    "model.fit(X_train, y_train, epochs=30)"
   ]
  },
  {
   "cell_type": "code",
   "execution_count": 125,
   "metadata": {},
   "outputs": [
    {
     "name": "stdout",
     "output_type": "stream",
     "text": [
      "334/334 [==============================] - 2s 6ms/step - loss: 3.0647 - accuracy: 0.6579\n",
      "3.0646700859069824 0.6578947305679321\n"
     ]
    }
   ],
   "source": [
    "val_loss, val_acc = model.evaluate(X_test, y_test)\n",
    "print(val_loss, val_acc)"
   ]
  },
  {
   "cell_type": "code",
   "execution_count": 126,
   "metadata": {},
   "outputs": [
    {
     "name": "stdout",
     "output_type": "stream",
     "text": [
      "WARNING:tensorflow:Layers in a Sequential model should only have a single input tensor, but we receive a <class 'tuple'> input: (<tf.Tensor 'IteratorGetNext:0' shape=(None, 3000) dtype=int32>,)\n",
      "Consider rewriting this model with the Functional API.\n",
      "[[3.5996917e-12 6.4191091e-10 3.0224252e-01 ... 3.8840170e-07\n",
      "  1.2906658e-08 6.1064727e-09]\n",
      " [0.0000000e+00 1.7311806e-18 1.2403767e-09 ... 1.9228437e-14\n",
      "  5.7847283e-09 2.1962042e-17]\n",
      " [1.3417711e-31 1.2174251e-17 2.9031520e-07 ... 1.7225778e-10\n",
      "  1.6266826e-09 7.3801201e-09]\n",
      " ...\n",
      " [0.0000000e+00 6.1276869e-21 2.4080149e-16 ... 4.0004159e-15\n",
      "  1.3784714e-17 1.0054126e-22]\n",
      " [1.7350956e-08 6.5848147e-03 7.8094564e-02 ... 4.7275744e-02\n",
      "  1.0129165e-02 7.0840768e-03]\n",
      " [4.9011257e-11 2.1601278e-05 2.5223391e-03 ... 3.1536038e-03\n",
      "  3.1444035e-04 6.9346500e-04]]\n",
      "23347    12\n",
      "12436    12\n",
      "56266    14\n",
      "18559     4\n",
      "47237     8\n",
      "         ..\n",
      "13298     5\n",
      "8855     12\n",
      "15696     7\n",
      "47680     8\n",
      "55544     7\n",
      "Name: topic, Length: 10678, dtype: int64\n"
     ]
    }
   ],
   "source": [
    "predic = model.predict([X_test])\n",
    "print(predic)\n",
    "print(y_test)"
   ]
  },
  {
   "cell_type": "code",
   "execution_count": null,
   "metadata": {},
   "outputs": [],
   "source": []
  },
  {
   "cell_type": "code",
   "execution_count": null,
   "metadata": {},
   "outputs": [],
   "source": []
  },
  {
   "cell_type": "code",
   "execution_count": null,
   "metadata": {},
   "outputs": [],
   "source": []
  },
  {
   "cell_type": "code",
   "execution_count": null,
   "metadata": {},
   "outputs": [],
   "source": []
  },
  {
   "cell_type": "code",
   "execution_count": null,
   "metadata": {},
   "outputs": [],
   "source": [
    "\"\"\"model = tf.keras.models.Sequential()\n",
    "#model.add(tf.keras.layers.Flatten())\n",
    "model.add(tf.keras.layers.Dense(100, activation = tf.nn.relu))\n",
    "model.add(tf.keras.layers.Dense(100, activation = tf.nn.relu))\n",
    "model.add(tf.keras.layers.Dense(19, activation = tf.nn.softmax))\n",
    "\n",
    "model.compile(optimizer='adam',\n",
    "             loss='sparse_categorical_crossentropy',\n",
    "             metrics=['accuracy'])\n",
    "\n",
    "model.fit(X_train, y_train, epochs=3)\n",
    "loss: 1.2306 - accuracy: 0.5953\n",
    "loss: 1.5089 - accuracy: 0.5312\"\"\"\n",
    "\n",
    "\"\"\"model = tf.keras.models.Sequential()\n",
    "#model.add(tf.keras.layers.Flatten())\n",
    "model.add(tf.keras.layers.Dense(500, activation = tf.nn.relu))\n",
    "model.add(tf.keras.layers.Dense(500, activation = tf.nn.relu))\n",
    "model.add(tf.keras.layers.Dense(500, activation = tf.nn.relu))\n",
    "model.add(tf.keras.layers.Dense(19, activation = tf.nn.softmax))\n",
    "\n",
    "model.compile(optimizer='adam',\n",
    "             loss='sparse_categorical_crossentropy',\n",
    "             metrics=['accuracy'])\n",
    "\n",
    "model.fit(X_train, y_train, epochs=3)\n",
    "loss: 0.7954 - accuracy: 0.7324\n",
    "loss: 1.3477 - accuracy: 0.6274\"\"\"\n",
    "\n",
    "\"\"\"model = tf.keras.models.Sequential()\n",
    "#model.add(tf.keras.layers.Flatten())\n",
    "model.add(tf.keras.layers.Dense(1000, activation = tf.nn.relu))\n",
    "model.add(tf.keras.layers.Dense(600, activation = tf.nn.relu))\n",
    "model.add(tf.keras.layers.Dense(300, activation = tf.nn.relu))\n",
    "model.add(tf.keras.layers.Dense(19, activation = tf.nn.softmax))\n",
    "\n",
    "model.compile(optimizer='adam',\n",
    "             loss='sparse_categorical_crossentropy',\n",
    "             metrics=['accuracy'])\n",
    "\n",
    "model.fit(X_train, y_train, epochs=5)\n",
    "loss: 0.5214 - accuracy: 0.8041\n",
    "loss: 1.5806 - accuracy: 0.6456\"\"\"\n",
    "\n",
    "\"\"\"model = tf.keras.models.Sequential()\n",
    "#model.add(tf.keras.layers.Flatten())\n",
    "model.add(tf.keras.layers.Dense(1000, activation = tf.nn.relu))\n",
    "model.add(tf.keras.layers.Dense(1000, activation = tf.nn.relu))\n",
    "model.add(tf.keras.layers.Dense(1000, activation = tf.nn.relu))\n",
    "model.add(tf.keras.layers.Dense(19, activation = tf.nn.softmax))\n",
    "\n",
    "model.compile(optimizer='adam',\n",
    "             loss='sparse_categorical_crossentropy',\n",
    "             metrics=['accuracy'])\n",
    "\n",
    "model.fit(X_train, y_train, epochs=3)\n",
    "loss: 0.7452 - accuracy: 0.7487\n",
    "loss: 1.3906 - accuracy: 0.6306\"\"\""
   ]
  }
 ],
 "metadata": {
  "kernelspec": {
   "display_name": "Python 3",
   "language": "python",
   "name": "python3"
  },
  "language_info": {
   "codemirror_mode": {
    "name": "ipython",
    "version": 3
   },
   "file_extension": ".py",
   "mimetype": "text/x-python",
   "name": "python",
   "nbconvert_exporter": "python",
   "pygments_lexer": "ipython3",
   "version": "3.7.6"
  }
 },
 "nbformat": 4,
 "nbformat_minor": 4
}
